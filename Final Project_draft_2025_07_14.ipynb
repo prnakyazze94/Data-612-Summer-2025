{
 "cells": [
  {
   "cell_type": "code",
   "execution_count": 1,
   "id": "3e131bef",
   "metadata": {},
   "outputs": [],
   "source": [
    "import pandas as pd\n",
    "import os"
   ]
  },
  {
   "cell_type": "code",
   "execution_count": 28,
   "id": "7d4a5c58",
   "metadata": {},
   "outputs": [
    {
     "name": "stdout",
     "output_type": "stream",
     "text": [
      "        0                         1                             2     3   \\\n",
      "0  movieId                     title                        genres  year   \n",
      "1        1          Toy Story (1995)   Animation|Children's|Comedy  1995   \n",
      "2        2            Jumanji (1995)  Adventure|Children's|Fantasy  1995   \n",
      "3        3   Grumpier Old Men (1995)                Comedy|Romance  1995   \n",
      "4        4  Waiting to Exhale (1995)                  Comedy|Drama  1995   \n",
      "\n",
      "                  4        5   \\\n",
      "0        clean_title  tmdb_id   \n",
      "1          Toy Story    862.0   \n",
      "2            Jumanji   8844.0   \n",
      "3   Grumpier Old Men  15602.0   \n",
      "4  Waiting to Exhale  31357.0   \n",
      "\n",
      "                                                  6   \\\n",
      "0                                           overview   \n",
      "1  Led by Woody, Andy's toys live happily in his ...   \n",
      "2  When siblings Judy and Peter discover an encha...   \n",
      "3  A family wedding reignites the ancient feud be...   \n",
      "4  Cheated on, mistreated and stepped on, the wom...   \n",
      "\n",
      "                                                  7   \\\n",
      "0                                        poster_path   \n",
      "1  https://image.tmdb.org/t/p/w500/uXDfjJbdP4ijW5...   \n",
      "2  https://image.tmdb.org/t/p/w500/p67m5dzwyxWd46...   \n",
      "3  https://image.tmdb.org/t/p/w500/1FSXpj5e8l4KH6...   \n",
      "4  https://image.tmdb.org/t/p/w500/qJU6rfil5xLVb5...   \n",
      "\n",
      "                                                  8             9   \\\n",
      "0                                      backdrop_path  vote_average   \n",
      "1  https://image.tmdb.org/t/p/w500/3Rfvhy1Nl6sSGJ...           8.0   \n",
      "2  https://image.tmdb.org/t/p/w500/pYw10zrqfkdm3y...         7.238   \n",
      "3  https://image.tmdb.org/t/p/w500/1o4vuCHpmd4DXo...         6.461   \n",
      "4  https://image.tmdb.org/t/p/w500/jZjoEKXMTDoZAG...           6.3   \n",
      "\n",
      "           10                                    11  \\\n",
      "0  vote_count                           tmdb_genres   \n",
      "1     18939.0  Animation, Adventure, Family, Comedy   \n",
      "2     10806.0            Adventure, Fantasy, Family   \n",
      "3       399.0                       Romance, Comedy   \n",
      "4       173.0                Comedy, Drama, Romance   \n",
      "\n",
      "                                                12               13  \\\n",
      "0                                       top_3_cast        directors   \n",
      "1                Tom Hanks, Tim Allen, Don Rickles    John Lasseter   \n",
      "2    Robin Williams, Kirsten Dunst, Bradley Pierce     Joe Johnston   \n",
      "3         Walter Matthau, Jack Lemmon, Ann-Margret    Howard Deutch   \n",
      "4  Whitney Houston, Angela Bassett, Loretta Devine  Forest Whitaker   \n",
      "\n",
      "                                                  14  \\\n",
      "0                                           keywords   \n",
      "1  rescue, friendship, mission, jealousy, villain...   \n",
      "2  giant insect, board game, disappearance, jungl...   \n",
      "3  fishing, sequel, old man, best friend, wedding...   \n",
      "4  based on novel or book, single mother, divorce...   \n",
      "\n",
      "                                            15  \n",
      "0                                 trailer_link  \n",
      "1  https://www.youtube.com/watch?v=CxwTLktovTU  \n",
      "2  https://www.youtube.com/watch?v=veszTagaXik  \n",
      "3  https://www.youtube.com/watch?v=rEnOoWs3FuA  \n",
      "4  https://www.youtube.com/watch?v=j9xml1CxgXI  \n"
     ]
    }
   ],
   "source": [
    "\n",
    "\n",
    "file_path = r\"C:\\Users\\pricc\\Downloads\\movies_enriched_full.csv\"\n",
    "df = pd.read_csv(file_path, header=None)\n",
    "print(df.head())\n"
   ]
  },
  {
   "cell_type": "code",
   "execution_count": 26,
   "id": "37b0ee47",
   "metadata": {},
   "outputs": [
    {
     "name": "stdout",
     "output_type": "stream",
     "text": [
      " Models built and similarity matrices saved.\n"
     ]
    }
   ],
   "source": [
    "import pandas as pd\n",
    "from sklearn.feature_extraction.text import CountVectorizer, TfidfVectorizer\n",
    "from sklearn.metrics.pairwise import cosine_similarity\n",
    "import numpy as np\n",
    "import os\n",
    "\n",
    "# ----------------------------------------\n",
    "# Load Enriched Movie Data\n",
    "# ----------------------------------------\n",
    "df = pd.read_csv(\"movies_enriched_full.csv\")\n",
    "\n",
    "# ----------------------------------------\n",
    "# SCombine Metadata Fields\n",
    "# ----------------------------------------\n",
    "\n",
    "def combine_metadata(row):\n",
    "    return \" \".join([\n",
    "        str(row[\"tmdb_genres\"]) if pd.notnull(row[\"tmdb_genres\"]) else \"\",\n",
    "        str(row[\"keywords\"]) if pd.notnull(row[\"keywords\"]) else \"\",\n",
    "        str(row[\"top_3_cast\"]) if pd.notnull(row[\"top_3_cast\"]) else \"\",\n",
    "        str(row[\"directors\"]) if pd.notnull(row[\"directors\"]) else \"\"\n",
    "    ]).lower().replace(\",\", \" \").replace(\":\", \" \").replace(\"-\", \" \")\n",
    "\n",
    "df[\"metadata\"] = df.apply(combine_metadata, axis=1)\n",
    "\n",
    "# ----------------------------------------\n",
    "#  Build Vectorizers\n",
    "# ----------------------------------------\n",
    "\n",
    "# Count Vectorizer\n",
    "count_vectorizer = CountVectorizer(stop_words='english')\n",
    "count_matrix = count_vectorizer.fit_transform(df[\"metadata\"])\n",
    "\n",
    "# TF-IDF Vectorizer\n",
    "tfidf_vectorizer = TfidfVectorizer(stop_words='english')\n",
    "tfidf_matrix = tfidf_vectorizer.fit_transform(df[\"metadata\"])\n",
    "\n",
    "# ----------------------------------------\n",
    "#  Compute Cosine Similarity\n",
    "# ----------------------------------------\n",
    "\n",
    "cosine_sim_count = cosine_similarity(count_matrix)\n",
    "cosine_sim_tfidf = cosine_similarity(tfidf_matrix)\n",
    "\n",
    "# ----------------------------------------\n",
    "#  Save Results\n",
    "# ----------------------------------------\n",
    "\n",
    "# Save similarity matrices as NumPy arrays\n",
    "np.save(\"cosine_sim_count.npy\", cosine_sim_count)\n",
    "np.save(\"cosine_sim_tfidf.npy\", cosine_sim_tfidf)\n",
    "\n",
    "# Optional: Save similarity matrices as CSVs\n",
    "pd.DataFrame(cosine_sim_count, index=df[\"title\"], columns=df[\"title\"]).to_csv(\"cosine_sim_count.csv\")\n",
    "pd.DataFrame(cosine_sim_tfidf, index=df[\"title\"], columns=df[\"title\"]).to_csv(\"cosine_sim_tfidf.csv\")\n",
    "\n",
    "print(\" Models built and similarity matrices saved.\")"
   ]
  },
  {
   "cell_type": "markdown",
   "id": "79f81fd2",
   "metadata": {},
   "source": []
  },
  {
   "cell_type": "code",
   "execution_count": 25,
   "id": "39a43e53",
   "metadata": {},
   "outputs": [
    {
     "name": "stdout",
     "output_type": "stream",
     "text": [
      "\n",
      "Top 5 similar movies using TF-IDF:\n",
      "Small Soldiers (1998) (Score: 0.3903)\n",
      "Toy Story 2 (1999) (Score: 0.3539)\n",
      "Indian in the Cupboard, The (1995) (Score: 0.3101)\n",
      "Toys (1992) (Score: 0.2656)\n",
      "Babes in Toyland (1961) (Score: 0.2394)\n"
     ]
    }
   ],
   "source": [
    "def recommend_movies(title, similarity_matrix, df, top_n=10):\n",
    "    idx = df[df[\"title\"] == title].index[0]\n",
    "    sim_scores = list(enumerate(similarity_matrix[idx]))\n",
    "    sim_scores = sorted(sim_scores, key=lambda x: x[1], reverse=True)[1:top_n+1]\n",
    "    similar_movies = [(df.iloc[i][\"title\"], score) for i, score in sim_scores]\n",
    "    return similar_movies\n",
    "\n",
    "# Example: Recommend movies similar to \"Toy Story (1995)\"\n",
    "print(\"\\nTop 5 similar movies using TF-IDF:\")\n",
    "for movie, score in recommend_movies(\"Toy Story (1995)\", cosine_sim_tfidf, df, top_n=5):\n",
    "    print(f\"{movie} (Score: {score:.4f})\")"
   ]
  },
  {
   "cell_type": "markdown",
   "id": "f88d2e73",
   "metadata": {},
   "source": [
    "CountVectorizer"
   ]
  },
  {
   "cell_type": "code",
   "execution_count": 19,
   "id": "8b5ea6e6",
   "metadata": {},
   "outputs": [
    {
     "name": "stdout",
     "output_type": "stream",
     "text": [
      " Cosine Similarity Matrix (CountVectorizer):\n",
      "title                               Toy Story (1995)  Jumanji (1995)  \\\n",
      "title                                                                  \n",
      "Toy Story (1995)                            1.000000        0.054433   \n",
      "Jumanji (1995)                              0.054433        1.000000   \n",
      "Grumpier Old Men (1995)                     0.054433        0.000000   \n",
      "Waiting to Exhale (1995)                    0.066227        0.064889   \n",
      "Father of the Bride Part II (1995)          0.046676        0.034300   \n",
      "\n",
      "title                               Grumpier Old Men (1995)  \\\n",
      "title                                                         \n",
      "Toy Story (1995)                                   0.054433   \n",
      "Jumanji (1995)                                     0.000000   \n",
      "Grumpier Old Men (1995)                            1.000000   \n",
      "Waiting to Exhale (1995)                           0.097333   \n",
      "Father of the Bride Part II (1995)                 0.068599   \n",
      "\n",
      "title                               Waiting to Exhale (1995)  \\\n",
      "title                                                          \n",
      "Toy Story (1995)                                    0.066227   \n",
      "Jumanji (1995)                                      0.064889   \n",
      "Grumpier Old Men (1995)                             0.097333   \n",
      "Waiting to Exhale (1995)                            1.000000   \n",
      "Father of the Bride Part II (1995)                  0.027821   \n",
      "\n",
      "title                               Father of the Bride Part II (1995)  \n",
      "title                                                                   \n",
      "Toy Story (1995)                                              0.046676  \n",
      "Jumanji (1995)                                                0.034300  \n",
      "Grumpier Old Men (1995)                                       0.068599  \n",
      "Waiting to Exhale (1995)                                      0.027821  \n",
      "Father of the Bride Part II (1995)                            1.000000  \n"
     ]
    }
   ],
   "source": [
    "import pandas as pd\n",
    "import numpy as np\n",
    "\n",
    "# Load movie data and similarity matrices\n",
    "df = pd.read_csv(\"movies_enriched_full.csv\")\n",
    "cosine_sim_count = np.load(\"cosine_sim_count.npy\")\n",
    "cosine_sim_tfidf = np.load(\"cosine_sim_tfidf.npy\")\n",
    "print(\" Cosine Similarity Matrix (CountVectorizer):\")\n",
    "print(pd.DataFrame(cosine_sim_count, index=df[\"title\"], columns=df[\"title\"]).iloc[:5, :5])"
   ]
  },
  {
   "cell_type": "markdown",
   "id": "c238fa74",
   "metadata": {},
   "source": [
    "Toy story has 1.000000 self-similarity to Toy Story\n",
    "\n",
    "0.054433 is how similar Toy Story is to Jumanji\n",
    "\n",
    "0.000000 means no content overlap between the movies for example Grumpier Old Men and Jumanji have no overlapping keywords/cast/etc.\n",
    "\n",
    "Waiting to Exhale has 6.6% similarity to Toy Story under CountVectoriz"
   ]
  },
  {
   "cell_type": "markdown",
   "id": "3972dcb1",
   "metadata": {},
   "source": [
    "TF-IDF"
   ]
  },
  {
   "cell_type": "code",
   "execution_count": 18,
   "id": "6c5a30dc",
   "metadata": {},
   "outputs": [
    {
     "name": "stdout",
     "output_type": "stream",
     "text": [
      "\n",
      " Cosine Similarity Matrix (TF-IDF):\n",
      "title                               Toy Story (1995)  Jumanji (1995)  \\\n",
      "title                                                                  \n",
      "Toy Story (1995)                            1.000000        0.014150   \n",
      "Jumanji (1995)                              0.014150        1.000000   \n",
      "Grumpier Old Men (1995)                     0.022040        0.000000   \n",
      "Waiting to Exhale (1995)                    0.028133        0.017912   \n",
      "Father of the Bride Part II (1995)          0.009242        0.009244   \n",
      "\n",
      "title                               Grumpier Old Men (1995)  \\\n",
      "title                                                         \n",
      "Toy Story (1995)                                   0.022040   \n",
      "Jumanji (1995)                                     0.000000   \n",
      "Grumpier Old Men (1995)                            1.000000   \n",
      "Waiting to Exhale (1995)                           0.017067   \n",
      "Father of the Bride Part II (1995)                 0.024845   \n",
      "\n",
      "title                               Waiting to Exhale (1995)  \\\n",
      "title                                                          \n",
      "Toy Story (1995)                                    0.028133   \n",
      "Jumanji (1995)                                      0.017912   \n",
      "Grumpier Old Men (1995)                             0.017067   \n",
      "Waiting to Exhale (1995)                            1.000000   \n",
      "Father of the Bride Part II (1995)                  0.003701   \n",
      "\n",
      "title                               Father of the Bride Part II (1995)  \n",
      "title                                                                   \n",
      "Toy Story (1995)                                              0.009242  \n",
      "Jumanji (1995)                                                0.009244  \n",
      "Grumpier Old Men (1995)                                       0.024845  \n",
      "Waiting to Exhale (1995)                                      0.003701  \n",
      "Father of the Bride Part II (1995)                            1.000000  \n"
     ]
    }
   ],
   "source": [
    "print(\"\\n Cosine Similarity Matrix (TF-IDF):\")\n",
    "print(pd.DataFrame(cosine_sim_tfidf, index=df[\"title\"], columns=df[\"title\"]).iloc[:5, :5])\n"
   ]
  },
  {
   "cell_type": "markdown",
   "id": "9f2f4908",
   "metadata": {},
   "source": [
    "Print Top 5 Similar Movies for a Given Title"
   ]
  },
  {
   "cell_type": "code",
   "execution_count": 24,
   "id": "fb46e7b1",
   "metadata": {},
   "outputs": [],
   "source": [
    "def print_recommendations(title, similarity_matrix, df, top_n=5):\n",
    "    idx = df[df[\"title\"] == title].index[0]\n",
    "    sim_scores = list(enumerate(similarity_matrix[idx]))\n",
    "    sim_scores = sorted(sim_scores, key=lambda x: x[1], reverse=True)[1:top_n+1]\n",
    "    print(f\"\\n Top {top_n} similar movies to '{title}':\")\n",
    "    for i, (movie_idx, score) in enumerate(sim_scores, 1):\n",
    "        print(f\"{i}. {df.iloc[movie_idx]['title']} (Similarity: {score:.4f})\")"
   ]
  },
  {
   "cell_type": "code",
   "execution_count": 23,
   "id": "241591e1",
   "metadata": {},
   "outputs": [
    {
     "name": "stdout",
     "output_type": "stream",
     "text": [
      "TF-IDF Recommendations\n",
      "\n",
      " Top 5 similar movies to 'Toy Story (1995)':\n",
      "1. Small Soldiers (1998) (Similarity: 0.3903)\n",
      "2. Toy Story 2 (1999) (Similarity: 0.3539)\n",
      "3. Indian in the Cupboard, The (1995) (Similarity: 0.3101)\n",
      "4. Toys (1992) (Similarity: 0.2656)\n",
      "5. Babes in Toyland (1961) (Similarity: 0.2394)\n",
      " CountVectorizer Recommendations\n",
      "\n",
      " Top 5 similar movies to 'Toy Story (1995)':\n",
      "1. Toy Story 2 (1999) (Similarity: 0.4518)\n",
      "2. Small Soldiers (1998) (Similarity: 0.3790)\n",
      "3. Indian in the Cupboard, The (1995) (Similarity: 0.2887)\n",
      "4. Big (1988) (Similarity: 0.2502)\n",
      "5. Babes in Toyland (1961) (Similarity: 0.2485)\n"
     ]
    }
   ],
   "source": [
    "print('TF-IDF Recommendations')\n",
    "print_recommendations(\"Toy Story (1995)\", cosine_sim_tfidf, df, top_n=5)\n",
    "\n",
    "print(' CountVectorizer Recommendations')\n",
    "print_recommendations(\"Toy Story (1995)\", cosine_sim_count, df, top_n=5)"
   ]
  }
 ],
 "metadata": {
  "kernelspec": {
   "display_name": "base",
   "language": "python",
   "name": "python3"
  },
  "language_info": {
   "codemirror_mode": {
    "name": "ipython",
    "version": 3
   },
   "file_extension": ".py",
   "mimetype": "text/x-python",
   "name": "python",
   "nbconvert_exporter": "python",
   "pygments_lexer": "ipython3",
   "version": "3.12.7"
  }
 },
 "nbformat": 4,
 "nbformat_minor": 5
}
